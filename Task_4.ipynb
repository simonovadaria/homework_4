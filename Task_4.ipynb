{
 "cells": [
  {
   "cell_type": "code",
   "execution_count": 2,
   "metadata": {},
   "outputs": [],
   "source": [
    "documents = [\n",
    "{'type': 'passport', 'number': '2207 876234', 'name': 'Василий Гупкин'},\n",
    "{'type': 'invoice', 'number': '11-2', 'name': 'Геннадий Покемонов'},\n",
    "{'type': 'insurance', 'number': '10006', 'name': 'Аристарх Павлов'}\n",
    "]"
   ]
  },
  {
   "cell_type": "code",
   "execution_count": 3,
   "metadata": {},
   "outputs": [],
   "source": [
    "directories = {\n",
    "'1': ['2207 876234', '11-2'],\n",
    "'2': ['10006'],\n",
    "'3': []\n",
    "}"
   ]
  },
  {
   "cell_type": "code",
   "execution_count": 69,
   "metadata": {},
   "outputs": [],
   "source": [
    "def main():\n",
    "    while True:\n",
    "        user_input = input('Add command: ')\n",
    "        if user_input == 'p':\n",
    "            user_search(documents)\n",
    "        elif user_input == 's':\n",
    "            shelf_search(directories)\n",
    "        elif user_input == 'l':\n",
    "            doc_info(documents)\n",
    "        elif user_input == 'as':\n",
    "            add_shelf(directories)\n",
    "        elif user_input == 'ds':\n",
    "            remove_shelf(directories)\n",
    "        elif user_input == 'q':\n",
    "            break\n",
    "       "
   ]
  },
  {
   "cell_type": "code",
   "execution_count": 71,
   "metadata": {},
   "outputs": [
    {
     "name": "stdout",
     "output_type": "stream",
     "text": [
      "Add command: p\n",
      "Введите номер документа: 10006\n",
      "Владелец документа:  Аристарх Павлов\n",
      "Add command: s\n",
      "Введите номер документа: 11-2\n",
      "Документ хранится на полке:  1\n",
      "Add command: l\n",
      "№:2207 876234, тип: passport, владелец: Василий Гупкин\n",
      "№:11-2, тип: invoice, владелец: Геннадий Покемонов\n",
      "№:10006, тип: insurance, владелец: Аристарх Павлов\n",
      "Add command: as\n",
      "Введите номер полки: 10\n",
      "Полка добавлена. Текущий перечень полок:  1,2,3,10\n",
      "Add command: ds\n",
      "Введите номер полки: 10\n",
      "Полка удалена. Текущий перечень полок:  1,2,3\n",
      "Add command: ds\n",
      "Введите номер полки: 2\n",
      "На полке есть документы, удалите их перед удалением полки. Текущий перечень полок:  1,2,3\n",
      "Add command: q\n"
     ]
    }
   ],
   "source": [
    "main()"
   ]
  },
  {
   "cell_type": "markdown",
   "metadata": {},
   "source": [
    "Задание 1\n",
    "Пункт 1. Пользователь по команде “p” может узнать владельца документа по его номеру"
   ]
  },
  {
   "cell_type": "code",
   "execution_count": 62,
   "metadata": {},
   "outputs": [],
   "source": [
    "def user_search(docs):\n",
    "    user_input = input('Введите номер документа: ')\n",
    "    res = []\n",
    "    for document in docs:\n",
    "        res.append(document['number'])\n",
    "        if document['number'] == user_input:\n",
    "            print('Владелец документа: ', document['name'])\n",
    "    \n",
    "    if user_input not in res:\n",
    "        print('Документ не найден')\n",
    "\n",
    "    return "
   ]
  },
  {
   "cell_type": "code",
   "execution_count": 63,
   "metadata": {},
   "outputs": [
    {
     "name": "stdout",
     "output_type": "stream",
     "text": [
      "Введите номер документа: 10006\n",
      "Владелец документа:  Аристарх Павлов\n"
     ]
    }
   ],
   "source": [
    "user_search(documents)"
   ]
  },
  {
   "cell_type": "code",
   "execution_count": 64,
   "metadata": {},
   "outputs": [
    {
     "name": "stdout",
     "output_type": "stream",
     "text": [
      "Введите номер документа: 12345\n",
      "Документ не найден\n"
     ]
    }
   ],
   "source": [
    "user_search(documents)"
   ]
  },
  {
   "cell_type": "markdown",
   "metadata": {},
   "source": [
    "Пункт 2. Пользователь по команде “s” может по номеру документа узнать на какой полке он хранится"
   ]
  },
  {
   "cell_type": "code",
   "execution_count": 66,
   "metadata": {},
   "outputs": [],
   "source": [
    "def shelf_search(shelves):\n",
    "    user_input = input('Введите номер документа: ')\n",
    "    res =[]\n",
    "    \n",
    "    for el in list(shelves.values()):\n",
    "        res.extend(el)\n",
    "    if user_input not in res:\n",
    "        print('Документ не найден')\n",
    "        \n",
    "    for shelf, doc in shelves.items():\n",
    "        if user_input in doc:\n",
    "            print('Документ хранится на полке: ', shelf)\n",
    "    return"
   ]
  },
  {
   "cell_type": "code",
   "execution_count": 67,
   "metadata": {},
   "outputs": [
    {
     "name": "stdout",
     "output_type": "stream",
     "text": [
      "Введите номер документа: 11-2\n",
      "Документ хранится на полке:  1\n"
     ]
    }
   ],
   "source": [
    "shelf_search(directories)"
   ]
  },
  {
   "cell_type": "code",
   "execution_count": 68,
   "metadata": {},
   "outputs": [
    {
     "name": "stdout",
     "output_type": "stream",
     "text": [
      "Введите номер документа: 123\n",
      "Документ не найден\n"
     ]
    }
   ],
   "source": [
    "shelf_search(directories)"
   ]
  },
  {
   "cell_type": "markdown",
   "metadata": {},
   "source": [
    "Пункт 3. Пользователь по команде “l” может увидеть полную информацию по всем документам"
   ]
  },
  {
   "cell_type": "code",
   "execution_count": 60,
   "metadata": {},
   "outputs": [],
   "source": [
    "def doc_info(docs):          \n",
    "    for doc in docs:\n",
    "        print(f\"№:{doc['number']}, тип: {doc['type']}, владелец: {doc['name']}\")\n",
    "    return"
   ]
  },
  {
   "cell_type": "code",
   "execution_count": 61,
   "metadata": {},
   "outputs": [
    {
     "name": "stdout",
     "output_type": "stream",
     "text": [
      "№:2207 876234, тип: passport, владелец: Василий Гупкин\n",
      "№:11-2, тип: invoice, владелец: Геннадий Покемонов\n",
      "№:10006, тип: insurance, владелец: Аристарх Павлов\n"
     ]
    }
   ],
   "source": [
    "doc_info(documents)"
   ]
  },
  {
   "cell_type": "markdown",
   "metadata": {},
   "source": [
    "Пункт 4. Пользователь по команде “as” может добавить новую полку"
   ]
  },
  {
   "cell_type": "code",
   "execution_count": 13,
   "metadata": {},
   "outputs": [],
   "source": [
    "def add_shelf(shelves):\n",
    "    user_input = input('Введите номер полки: ')\n",
    "    if user_input not in shelves.keys():\n",
    "        shelves[user_input] = []\n",
    "        print('Полка добавлена. Текущий перечень полок: ', ','.join(list(shelves.keys())))\n",
    "    else:\n",
    "        print('Полка уже существует. Текущий перечень полок: ', ','.join(list(shelves.keys())))\n",
    "    return"
   ]
  },
  {
   "cell_type": "code",
   "execution_count": 43,
   "metadata": {},
   "outputs": [
    {
     "name": "stdout",
     "output_type": "stream",
     "text": [
      "Введите номер полки: 10\n",
      "Полка добавлена. Текущий перечень полок:  1,2,3,10\n"
     ]
    }
   ],
   "source": [
    "add_shelf(directories)"
   ]
  },
  {
   "cell_type": "code",
   "execution_count": 17,
   "metadata": {},
   "outputs": [
    {
     "name": "stdout",
     "output_type": "stream",
     "text": [
      "Введите номер полки: 1\n",
      "Полка уже существует. Текущий перечень полок:  1,2,3,10\n"
     ]
    }
   ],
   "source": [
    "add_shelf(directories)"
   ]
  },
  {
   "cell_type": "markdown",
   "metadata": {},
   "source": [
    "Пункт 5. Пользователь по команде “ds” может удалить существующую полку из данных (только если она пустая)"
   ]
  },
  {
   "cell_type": "code",
   "execution_count": 27,
   "metadata": {},
   "outputs": [],
   "source": [
    "def remove_shelf(shelves):\n",
    "    user_input = input('Введите номер полки: ')\n",
    "    if user_input in shelves.keys() and len(shelves[user_input]) == 0:\n",
    "        del shelves[user_input]\n",
    "        print('Полка удалена. Текущий перечень полок: ', ','.join(list(shelves.keys())))\n",
    "    elif user_input in shelves.keys() and len(shelves[user_input]) != 0:\n",
    "        print('На полке есть документы, удалите их перед удалением полки. Текущий перечень полок: ', ','.join(list(shelves.keys())))\n",
    "    else:\n",
    "        print('Такой полки не существует. Текущий перечень полок: ', ','.join(list(shelves.keys())))\n",
    "    return"
   ]
  },
  {
   "cell_type": "code",
   "execution_count": 44,
   "metadata": {},
   "outputs": [
    {
     "name": "stdout",
     "output_type": "stream",
     "text": [
      "Введите номер полки: 4\n",
      "Такой полки не существует. Текущий перечень полок:  1,2,3,10\n"
     ]
    }
   ],
   "source": [
    "remove_shelf(directories)"
   ]
  },
  {
   "cell_type": "code",
   "execution_count": 45,
   "metadata": {},
   "outputs": [
    {
     "name": "stdout",
     "output_type": "stream",
     "text": [
      "Введите номер полки: 10\n",
      "Полка удалена. Текущий перечень полок:  1,2,3\n"
     ]
    }
   ],
   "source": [
    "remove_shelf(directories)"
   ]
  },
  {
   "cell_type": "code",
   "execution_count": 46,
   "metadata": {},
   "outputs": [
    {
     "name": "stdout",
     "output_type": "stream",
     "text": [
      "Введите номер полки: 1\n",
      "На полке есть документы, удалите их перед удалением полки. Текущий перечень полок:  1,2,3\n"
     ]
    }
   ],
   "source": [
    "remove_shelf(directories)"
   ]
  }
 ],
 "metadata": {
  "kernelspec": {
   "display_name": "Python 3",
   "language": "python",
   "name": "python3"
  },
  "language_info": {
   "codemirror_mode": {
    "name": "ipython",
    "version": 3
   },
   "file_extension": ".py",
   "mimetype": "text/x-python",
   "name": "python",
   "nbconvert_exporter": "python",
   "pygments_lexer": "ipython3",
   "version": "3.8.3"
  }
 },
 "nbformat": 4,
 "nbformat_minor": 4
}
